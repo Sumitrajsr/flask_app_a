{
 "cells": [
  {
   "cell_type": "code",
   "execution_count": 2,
   "id": "147e1036-4650-462b-ab2c-0839999fdbc9",
   "metadata": {},
   "outputs": [],
   "source": [
    "#Q1. Explain with an example each when to use a for loop and a while loop.\n",
    "#ans-The for loop is used when we already know the number of iterations, which means when we know how many times a statement has\n",
    "#to be executed. That is why we have to specify the ending point in the for loop initialization. When we need to end the loop on\n",
    "#a condition other than the number of times, we use a while loop"
   ]
  },
  {
   "cell_type": "code",
   "execution_count": 3,
   "id": "8187f7ea-99f3-4b8c-9ff6-3f22b0357649",
   "metadata": {},
   "outputs": [
    {
     "name": "stdout",
     "output_type": "stream",
     "text": [
      "Sum of first 10 natural natural number is  55\n",
      "product of first 10 natural natural number is  3628800\n"
     ]
    }
   ],
   "source": [
    "#Q2. Write a python program to print the sum and product of the first 10 natural numbers using for\n",
    "#and while loop.\n",
    "# using for loop\n",
    "number=10\n",
    "sum=0\n",
    "product=1\n",
    "for i in range(1,11):\n",
    "    sum=sum+i\n",
    "    product=product*i\n",
    "print(\"Sum of first 10 natural natural number is \" , sum)\n",
    "print(\"product of first 10 natural natural number is \" , product)"
   ]
  },
  {
   "cell_type": "code",
   "execution_count": 2,
   "id": "e951842e-ed1c-44c3-807f-f2e1ee11155d",
   "metadata": {},
   "outputs": [
    {
     "name": "stdout",
     "output_type": "stream",
     "text": [
      "Sum of first 10 natural natural number is  55\n",
      "product of first 10 natural natural number is  3628800\n"
     ]
    }
   ],
   "source": [
    "#using while loop\n",
    "number=10\n",
    "sum=0\n",
    "product=1\n",
    "i=1\n",
    "while(i<=number):\n",
    "    sum=sum+i\n",
    "    product=product*i\n",
    "    i=i+1\n",
    "print(\"Sum of first 10 natural natural number is \" , sum)\n",
    "print(\"product of first 10 natural natural number is \" , product)\n",
    "    "
   ]
  },
  {
   "cell_type": "code",
   "execution_count": 9,
   "id": "707c8ec8-ae80-4ec5-aa91-6a0fde4af881",
   "metadata": {},
   "outputs": [
    {
     "name": "stdout",
     "output_type": "stream",
     "text": [
      "how many units we use 310\n"
     ]
    },
    {
     "name": "stdout",
     "output_type": "stream",
     "text": [
      "2250.0\n"
     ]
    }
   ],
   "source": [
    "#Q3. Create a python program to compute the electricity bill for a household.\n",
    "\n",
    "def electricity_bill(units):\n",
    "\n",
    "          \n",
    "        if (units<=10):\n",
    "            return (units*4.5)\n",
    "\n",
    "        elif (units<=200):\n",
    "            return((100*4.5+(units-100)*6))\n",
    "\n",
    "\n",
    "        elif (units <= 300):\n",
    "\n",
    "            return ((100 * 4.5) +\n",
    "                    (100 * 6) +\n",
    "                    (units - 200) * 10);\n",
    "\n",
    "        elif (units > 300):\n",
    "\n",
    "            return ((100 * 4.5) +\n",
    "                    (100 * 6) +\n",
    "                    (100 * 10) +\n",
    "                    (units - 300) * 20);\n",
    "\n",
    "        return 0;\n",
    "units =int(input(\"how many units we use\"))\n",
    "print(electricity_bill(units))\n",
    " \n",
    "          \n",
    "          "
   ]
  },
  {
   "cell_type": "code",
   "execution_count": 10,
   "id": "09b7a444-379a-4bac-a58e-9b76fd6c9e4a",
   "metadata": {},
   "outputs": [
    {
     "name": "stdout",
     "output_type": "stream",
     "text": [
      "[8, 64, 125, 216, 512, 1000, 1728, 2744, 3375, 4096, 5832, 8000, 10648, 13824, 15625, 17576, 21952, 27000, 32768, 39304, 42875, 46656, 54872, 64000, 74088, 85184, 91125, 97336, 110592, 125000, 140608, 157464, 166375, 175616, 195112, 216000, 238328, 262144, 274625, 287496, 314432, 343000, 373248, 405224, 421875, 438976, 474552, 512000, 551368, 592704, 614125, 636056, 681472, 729000, 778688, 830584, 857375, 884736, 941192, 1000000]\n"
     ]
    }
   ],
   "source": [
    "#Create a list of numbers from 1 to 100. Use for loop and while loop to calculate the cube of each\n",
    "#number and if the cube of that number is divisible by 4 or 5 then append that number in a list and print\n",
    "#that list.\n",
    "# USING FOR LOOP\n",
    "\n",
    "l=[]\n",
    "for i in range(1,101):\n",
    "    i=i**3\n",
    "    if (i%4==0 or i%5==0):\n",
    "        l.append(i)\n",
    "print(l)"
   ]
  },
  {
   "cell_type": "code",
   "execution_count": 16,
   "id": "e0043031-0e2a-4940-bd8e-dee3b37ef26b",
   "metadata": {},
   "outputs": [
    {
     "name": "stdout",
     "output_type": "stream",
     "text": [
      "[8, 64, 125, 216, 512, 1000, 1728, 2744, 3375, 4096, 5832, 8000, 10648, 13824, 15625, 17576, 21952, 27000, 32768, 39304, 42875, 46656, 54872, 64000, 74088, 85184, 91125, 97336, 110592, 125000, 140608, 157464, 166375, 175616, 195112, 216000, 238328, 262144, 274625, 287496, 314432, 343000, 373248, 405224, 421875, 438976, 474552, 512000, 551368, 592704, 614125, 636056, 681472, 729000, 778688, 830584, 857375, 884736, 941192, 1000000]\n"
     ]
    }
   ],
   "source": [
    "# USING WHILE LOOP\n",
    "l=[]\n",
    "i=1\n",
    "while(i<=100):\n",
    "    \n",
    "    j=i**3\n",
    "    if (j%4==0 or j%5==0):\n",
    "        l.append(j)\n",
    "    \n",
    "    i=i+1\n",
    "print(l)\n",
    "    "
   ]
  },
  {
   "cell_type": "code",
   "execution_count": 21,
   "id": "b828b791-a0b6-4f44-8ed1-5b79d502b5a9",
   "metadata": {},
   "outputs": [
    {
     "name": "stdout",
     "output_type": "stream",
     "text": [
      "total number of vowel present in string is  12\n"
     ]
    }
   ],
   "source": [
    "#Write a program to filter count vowels in the below-given string.\n",
    "string = \"I want to become a data scientist\"\n",
    "vowel_count=0\n",
    "vowel = set(\"aeiouAEIOU\")\n",
    "for i in string:\n",
    "    if i in vowel:\n",
    "        vowel_count+=1\n",
    "print(\"total number of vowel present in string is \",vowel_count)\n"
   ]
  },
  {
   "cell_type": "code",
   "execution_count": null,
   "id": "52b39254-e06e-4c13-b883-21a01e949405",
   "metadata": {},
   "outputs": [],
   "source": []
  }
 ],
 "metadata": {
  "kernelspec": {
   "display_name": "Python 3",
   "language": "python",
   "name": "python3"
  },
  "language_info": {
   "codemirror_mode": {
    "name": "ipython",
    "version": 3
   },
   "file_extension": ".py",
   "mimetype": "text/x-python",
   "name": "python",
   "nbconvert_exporter": "python",
   "pygments_lexer": "ipython3",
   "version": "3.10.5"
  },
  "vscode": {
   "interpreter": {
    "hash": "aee8b7b246df8f9039afb4144a1f6fd8d2ca17a180786b69acc140d282b71a49"
   }
  }
 },
 "nbformat": 4,
 "nbformat_minor": 5
}
